{
 "cells": [
  {
   "cell_type": "markdown",
   "id": "961c267c",
   "metadata": {},
   "source": [
    "#  Data Science Tools and Ecosystem."
   ]
  },
  {
   "cell_type": "markdown",
   "id": "c7e4af0d",
   "metadata": {},
   "source": [
    "In this notebook, Data Science Tools and Ecosystem are summarized."
   ]
  },
  {
   "cell_type": "markdown",
   "id": "0ac311bc",
   "metadata": {},
   "source": [
    "Some of the popular languages that Data Scientists use are:\n",
    "1.python\n",
    "2.R\n",
    "3.SQL"
   ]
  },
  {
   "cell_type": "markdown",
   "id": "f6faa20d",
   "metadata": {},
   "source": [
    "Some of the commonly used libraries used by Data Scientists include: \n",
    "1.numpy\n",
    "2.keras\n",
    "3.pandas\n",
    "4.matplotlib"
   ]
  },
  {
   "cell_type": "markdown",
   "id": "34de5297",
   "metadata": {},
   "source": [
    "Data Science Tools\n",
    "\n",
    "1.Jupyter notebook\n",
    "2.RStudio\n",
    "3.vs code"
   ]
  },
  {
   "cell_type": "markdown",
   "id": "77f1a80a",
   "metadata": {},
   "source": [
    "### Below are a few examples of evaluating arithmetic expressions in Python"
   ]
  },
  {
   "cell_type": "code",
   "execution_count": 1,
   "id": "cc3d7e50",
   "metadata": {},
   "outputs": [
    {
     "name": "stdout",
     "output_type": "stream",
     "text": [
      "17\n"
     ]
    }
   ],
   "source": [
    "print((3*4)+5)"
   ]
  },
  {
   "cell_type": "code",
   "execution_count": 2,
   "id": "ce1bb778",
   "metadata": {},
   "outputs": [
    {
     "name": "stdout",
     "output_type": "stream",
     "text": [
      "3.3333333333333335\n"
     ]
    }
   ],
   "source": [
    "#8-multiplyandaddintegers\n",
    "print(200/60)"
   ]
  },
  {
   "cell_type": "markdown",
   "id": "d0f9f657",
   "metadata": {},
   "source": [
    "# Objectives:\n",
    "- List popular languages for Data Science.\n",
    "- Describe fundamental concepts in machine learning.\n",
    "- Explore data visualization techniques using libraries like Matplotlib and Seaborn.\n",
    "- Demonstrate proficiency in manipulating data with Pandas.\n",
    "- Showcase basic statistical analysis and hypothesis testing in Python.\n"
   ]
  },
  {
   "cell_type": "markdown",
   "id": "5bf653d0",
   "metadata": {},
   "source": [
    "## Author \n",
    "kalaivani"
   ]
  }
 ],
 "metadata": {
  "kernelspec": {
   "display_name": "Python 3 (ipykernel)",
   "language": "python",
   "name": "python3"
  },
  "language_info": {
   "codemirror_mode": {
    "name": "ipython",
    "version": 3
   },
   "file_extension": ".py",
   "mimetype": "text/x-python",
   "name": "python",
   "nbconvert_exporter": "python",
   "pygments_lexer": "ipython3",
   "version": "3.11.2"
  }
 },
 "nbformat": 4,
 "nbformat_minor": 5
}
